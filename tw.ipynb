{
 "cells": [
  {
   "cell_type": "markdown",
   "id": "989e6838",
   "metadata": {},
   "source": [
    "# Tracy Widom test\n",
    "Implementation according to Patterson 2006, PLoS Genetics.\n",
    "Variable names are in accordance as much as possible."
   ]
  },
  {
   "cell_type": "code",
   "execution_count": 34,
   "id": "da18df0d",
   "metadata": {},
   "outputs": [],
   "source": [
    "import numpy as np\n",
    "from TracyWidom import TracyWidom\n",
    "import scipy\n",
    "import pandas as pd\n",
    "import matplotlib.pyplot as plt"
   ]
  },
  {
   "cell_type": "markdown",
   "id": "9a63fa41",
   "metadata": {},
   "source": [
    "\n",
    "### Moment estimator\n",
    "Equation (10) in Patterson et al.\n",
    "\n",
    "$$n' = \\frac{(m+1)(\\sum_{i}\\lambda_i)^2}\n",
    "{(m-1)\\sum_{i}\\lambda_i^2 - (\\sum_{i}\\lambda_i)^2}$$"
   ]
  },
  {
   "cell_type": "code",
   "execution_count": 35,
   "id": "d2f2c514",
   "metadata": {},
   "outputs": [],
   "source": [
    "def nprime(m, lambdas):\n",
    "    import pdb\n",
    "    t1 = (lambdas.sum())**2\n",
    "    numer = (m+1) * t1\n",
    "    denom = (m-1) * (lambdas **2).sum() - t1\n",
    "    if numer/denom < 0: pdb.set_trace()\n",
    "    return numer/denom"
   ]
  },
  {
   "cell_type": "code",
   "execution_count": 31,
   "id": "fbab4312",
   "metadata": {},
   "outputs": [],
   "source": [
    "def twstats(lambdas):\n",
    "    import pdb\n",
    "    tw = TracyWidom(beta=1)\n",
    "    stats = []\n",
    "    for m in range(len(lambdas), 1, -1):\n",
    "        m1 = m - 1\n",
    "        n1 = nprime(m, lambdas)\n",
    "        if n1 < 1: pdb.set_trace()\n",
    "        mumn = ((np.sqrt(n1-1) + np.sqrt(m))**2)/n1 ## Eq (5)\n",
    "        sigmn = (np.sqrt(n1-1) + np.sqrt(m))/n1 * (1/np.sqrt(n1-1) + 1/np.sqrt(m))**(1/3.) # Eq (6)\n",
    "        l = m1*lambdas[0]/lambdas.sum() ## extend to all lambdas\n",
    "        x = (l - mumn)/sigmn  # Eq (7)\n",
    "        stats.append((lambdas[0], l, x, 1-tw.cdf(x)))\n",
    "        lambdas = lambdas[1:]  ## dropping first lambda, preparing for next round\n",
    "    df = pd.DataFrame(stats)\n",
    "    df.columns = 'lambda scaled_lambda twstat p-value'.split()\n",
    "    return df\n"
   ]
  },
  {
   "cell_type": "markdown",
   "id": "e5c635c2",
   "metadata": {},
   "source": [
    "## Sample dataset\n",
    "C is a 50x400 genotype  values with values $\\in \\{0, 1, 2\\}$ from the [LEA tutorial](https://rdrr.io/bioc/LEA/man/main_tracyWidom.html)."
   ]
  },
  {
   "cell_type": "markdown",
   "id": "27ff3fc7",
   "metadata": {},
   "source": [
    "## Implementation ala Patterson\n",
    "### 1. Compute Matrix M\n",
    "Equation (1)-(3) in [Patterson et al, 2006](https://journals.plos.org/plosgenetics/article?id=10.1371/journal.pgen.0020190#pgen-0020190-e003)\n",
    "\n",
    "$$\\mu(j) = \\frac{\\sum_{i=1}^{m}C(i,j)}{m}$$\n",
    "$$p(j) = \\mu(j)/2$$\n",
    "$$M(i,j) = \\frac{C(i,j)-\\mu(j)}{\\sqrt{p(j)(1-p(j))}}$$"
   ]
  },
  {
   "cell_type": "code",
   "execution_count": 27,
   "id": "ecb5b29d",
   "metadata": {},
   "outputs": [],
   "source": [
    "C = pd.read_csv('/home/ahenschel/TracyWidom/genotype.csv').iloc[:,1:].values\n",
    "m, n = C.shape\n",
    "m1 = m-1 # m' in the paper\n",
    "mu = np.nanmean(C, axis=0)  #(1)\n",
    "p = mu/2.\n",
    "scale = np.sqrt(p*(1-p))\n",
    "#scale = np.nanstd(C, axis=0) ## alternative scaling with sigma, probably used in LEA: \n",
    "M = (C-mu)/scale #(2) & (3) "
   ]
  },
  {
   "cell_type": "markdown",
   "id": "b63affcc",
   "metadata": {},
   "source": [
    "### 3. Eigenvalues of X\n",
    "Seems unneccessary to calculate $X = MM'$ if we go with SVD.\n",
    "\n",
    "Automatically sorted with linalg.svd, such that $\\lambda_1 > \\lambda_2 \\ldots > \\lambda_{m'} > 0$\n"
   ]
  },
  {
   "cell_type": "code",
   "execution_count": 28,
   "id": "bc7f5573",
   "metadata": {},
   "outputs": [],
   "source": [
    "## through SVD\n",
    "U, s, V = scipy.linalg.svd(M) \n",
    "lambdas = (s**2)[:-1]\n",
    "#L = m1*lambdas/lambdas.sum() ## scale lambdas, so they add up to m'\n",
    "# U contains eigenvectors, identical with LEA tutorial :-D"
   ]
  },
  {
   "cell_type": "code",
   "execution_count": 29,
   "id": "d8322939",
   "metadata": {},
   "outputs": [
    {
     "data": {
      "text/plain": [
       "(50, 50)"
      ]
     },
     "execution_count": 29,
     "metadata": {},
     "output_type": "execute_result"
    }
   ],
   "source": [
    "U.shape"
   ]
  },
  {
   "cell_type": "code",
   "execution_count": 33,
   "id": "492aea9b",
   "metadata": {},
   "outputs": [
    {
     "name": "stdout",
     "output_type": "stream",
     "text": [
      "> \u001b[0;32m/tmp/ipykernel_2283398/2961860221.py\u001b[0m(9)\u001b[0;36mtwstats\u001b[0;34m()\u001b[0m\n",
      "\u001b[0;32m      7 \u001b[0;31m        \u001b[0mn1\u001b[0m \u001b[0;34m=\u001b[0m \u001b[0mnprime\u001b[0m\u001b[0;34m(\u001b[0m\u001b[0mm\u001b[0m\u001b[0;34m,\u001b[0m \u001b[0mlambdas\u001b[0m\u001b[0;34m)\u001b[0m\u001b[0;34m\u001b[0m\u001b[0;34m\u001b[0m\u001b[0m\n",
      "\u001b[0m\u001b[0;32m      8 \u001b[0;31m        \u001b[0;32mif\u001b[0m \u001b[0mn1\u001b[0m \u001b[0;34m<\u001b[0m \u001b[0;36m1\u001b[0m\u001b[0;34m:\u001b[0m \u001b[0mpdb\u001b[0m\u001b[0;34m.\u001b[0m\u001b[0mset_trace\u001b[0m\u001b[0;34m(\u001b[0m\u001b[0;34m)\u001b[0m\u001b[0;34m\u001b[0m\u001b[0;34m\u001b[0m\u001b[0m\n",
      "\u001b[0m\u001b[0;32m----> 9 \u001b[0;31m        \u001b[0mmumn\u001b[0m \u001b[0;34m=\u001b[0m \u001b[0;34m(\u001b[0m\u001b[0;34m(\u001b[0m\u001b[0mnp\u001b[0m\u001b[0;34m.\u001b[0m\u001b[0msqrt\u001b[0m\u001b[0;34m(\u001b[0m\u001b[0mn1\u001b[0m\u001b[0;34m-\u001b[0m\u001b[0;36m1\u001b[0m\u001b[0;34m)\u001b[0m \u001b[0;34m+\u001b[0m \u001b[0mnp\u001b[0m\u001b[0;34m.\u001b[0m\u001b[0msqrt\u001b[0m\u001b[0;34m(\u001b[0m\u001b[0mm\u001b[0m\u001b[0;34m)\u001b[0m\u001b[0;34m)\u001b[0m\u001b[0;34m**\u001b[0m\u001b[0;36m2\u001b[0m\u001b[0;34m)\u001b[0m\u001b[0;34m/\u001b[0m\u001b[0mn1\u001b[0m \u001b[0;31m## Eq (5)\u001b[0m\u001b[0;34m\u001b[0m\u001b[0;34m\u001b[0m\u001b[0m\n",
      "\u001b[0m\u001b[0;32m     10 \u001b[0;31m        \u001b[0msigmn\u001b[0m \u001b[0;34m=\u001b[0m \u001b[0;34m(\u001b[0m\u001b[0mnp\u001b[0m\u001b[0;34m.\u001b[0m\u001b[0msqrt\u001b[0m\u001b[0;34m(\u001b[0m\u001b[0mn1\u001b[0m\u001b[0;34m-\u001b[0m\u001b[0;36m1\u001b[0m\u001b[0;34m)\u001b[0m \u001b[0;34m+\u001b[0m \u001b[0mnp\u001b[0m\u001b[0;34m.\u001b[0m\u001b[0msqrt\u001b[0m\u001b[0;34m(\u001b[0m\u001b[0mm\u001b[0m\u001b[0;34m)\u001b[0m\u001b[0;34m)\u001b[0m\u001b[0;34m/\u001b[0m\u001b[0mn1\u001b[0m \u001b[0;34m*\u001b[0m \u001b[0;34m(\u001b[0m\u001b[0;36m1\u001b[0m\u001b[0;34m/\u001b[0m\u001b[0mnp\u001b[0m\u001b[0;34m.\u001b[0m\u001b[0msqrt\u001b[0m\u001b[0;34m(\u001b[0m\u001b[0mn1\u001b[0m\u001b[0;34m-\u001b[0m\u001b[0;36m1\u001b[0m\u001b[0;34m)\u001b[0m \u001b[0;34m+\u001b[0m \u001b[0;36m1\u001b[0m\u001b[0;34m/\u001b[0m\u001b[0mnp\u001b[0m\u001b[0;34m.\u001b[0m\u001b[0msqrt\u001b[0m\u001b[0;34m(\u001b[0m\u001b[0mm\u001b[0m\u001b[0;34m)\u001b[0m\u001b[0;34m)\u001b[0m\u001b[0;34m**\u001b[0m\u001b[0;34m(\u001b[0m\u001b[0;36m1\u001b[0m\u001b[0;34m/\u001b[0m\u001b[0;36m3.\u001b[0m\u001b[0;34m)\u001b[0m \u001b[0;31m# Eq (6)\u001b[0m\u001b[0;34m\u001b[0m\u001b[0;34m\u001b[0m\u001b[0m\n",
      "\u001b[0m\u001b[0;32m     11 \u001b[0;31m        \u001b[0ml\u001b[0m \u001b[0;34m=\u001b[0m \u001b[0mm1\u001b[0m\u001b[0;34m*\u001b[0m\u001b[0mlambdas\u001b[0m\u001b[0;34m[\u001b[0m\u001b[0;36m0\u001b[0m\u001b[0;34m]\u001b[0m\u001b[0;34m/\u001b[0m\u001b[0mlambdas\u001b[0m\u001b[0;34m.\u001b[0m\u001b[0msum\u001b[0m\u001b[0;34m(\u001b[0m\u001b[0;34m)\u001b[0m \u001b[0;31m## extend to all lambdas\u001b[0m\u001b[0;34m\u001b[0m\u001b[0;34m\u001b[0m\u001b[0m\n",
      "\u001b[0m\n",
      "ipdb> q\n"
     ]
    }
   ],
   "source": [
    "twstats(lambdas)"
   ]
  },
  {
   "cell_type": "markdown",
   "id": "aa82a11f",
   "metadata": {},
   "source": [
    "### 4. Estimating Moment"
   ]
  },
  {
   "cell_type": "code",
   "execution_count": 60,
   "id": "7ddeb478",
   "metadata": {},
   "outputs": [
    {
     "data": {
      "text/plain": [
       "71.7060673454142"
      ]
     },
     "execution_count": 60,
     "metadata": {},
     "output_type": "execute_result"
    }
   ],
   "source": [
    "n1 = nprime(m, lambdas)\n",
    "n1"
   ]
  },
  {
   "cell_type": "code",
   "execution_count": 62,
   "id": "1f15c9d1",
   "metadata": {},
   "outputs": [
    {
     "data": {
      "text/plain": [
       "50"
      ]
     },
     "execution_count": 62,
     "metadata": {},
     "output_type": "execute_result"
    }
   ],
   "source": [
    "m"
   ]
  },
  {
   "cell_type": "markdown",
   "id": "799d8a92",
   "metadata": {},
   "source": [
    "### 5. Setting l\n",
    "$$ l = \\frac{(m')\\lambda_1}{\\sum_{i=1}^{m'}\\lambda_i} $$"
   ]
  },
  {
   "cell_type": "code",
   "execution_count": 51,
   "id": "ff3fb153",
   "metadata": {},
   "outputs": [
    {
     "data": {
      "text/plain": [
       "4.186573955851955"
      ]
     },
     "execution_count": 51,
     "metadata": {},
     "output_type": "execute_result"
    }
   ],
   "source": [
    "l = m1*lambdas[1]/lambdas.sum()\n",
    "l"
   ]
  },
  {
   "cell_type": "markdown",
   "id": "37cf7b05",
   "metadata": {},
   "source": [
    "### 6. Normalize l"
   ]
  },
  {
   "cell_type": "code",
   "execution_count": null,
   "id": "4ff113b0",
   "metadata": {},
   "outputs": [],
   "source": [
    "mumn = ((np.sqrt(n1-1) + np.sqrt(m))**2)/n1\n",
    "sigmn = (np.sqrt(n1-1) + np.sqrt(m))/n1 * (1/np.sqrt(n1-1) + 1/np.sqrt(m))**(1/3.)\n",
    "(l - mumn)/sigmn"
   ]
  },
  {
   "cell_type": "markdown",
   "id": "c6c75a63",
   "metadata": {},
   "source": [
    "### Step 4-6 combined"
   ]
  },
  {
   "cell_type": "code",
   "execution_count": 175,
   "id": "6ab5f366",
   "metadata": {},
   "outputs": [],
   "source": [
    "#smart = pd.read_csv('/home/ahenschel/Dropbox/Yemen/YemenGenomeAnalysis/Notebooks/smartpca_koura.log', delim_whitespace=True)\n",
    "smart = pd.read_csv('/tmp/smartpca.log', delim_whitespace=True)\n",
    "lambdas = np.array(smart['eigenvalue'])\n",
    "twstats(lambdas)"
   ]
  },
  {
   "cell_type": "code",
   "execution_count": 91,
   "id": "00d40c3e",
   "metadata": {
    "collapsed": true
   },
   "outputs": [
    {
     "data": {
      "text/plain": [
       "array([23.38863799,  3.39285616,  2.60081508,  1.26857664,  1.0034919 ,\n",
       "        0.85444196,  0.78775285,  0.75493692,  0.72310378,  0.68404618,\n",
       "        0.66132364,  0.63769533,  0.62787555,  0.58511864,  0.57465301,\n",
       "        0.54460039,  0.53165085,  0.525099  ,  0.50258313,  0.48304886,\n",
       "        0.15434948,  0.16029709,  0.45056866,  0.44298671,  0.43179323,\n",
       "        0.17447256,  0.41888178,  0.18298131,  0.19240505,  0.19990927,\n",
       "        0.20424833,  0.21001779,  0.40759045,  0.39735667,  0.39441464,\n",
       "        0.37361126,  0.2312667 ,  0.23340936,  0.35959538,  0.34850857,\n",
       "        0.33158609,  0.32455932,  0.31552526,  0.25106147,  0.25560431,\n",
       "        0.29664147,  0.2935122 ,  0.27097874,  0.27734725,  0.28221169])"
      ]
     },
     "execution_count": 91,
     "metadata": {},
     "output_type": "execute_result"
    }
   ],
   "source": [
    "Z = norm2(M, axis=1)\n",
    "n, m = Z.shape\n",
    "C = (Z @ Z.T)/(m)\n",
    "eigenvals, eigenvecs = np.linalg.eig(C)\n",
    "eigenvals"
   ]
  },
  {
   "cell_type": "code",
   "execution_count": 89,
   "id": "7fe07694",
   "metadata": {},
   "outputs": [
    {
     "data": {
      "text/plain": [
       "array([-0.13976275, -0.14073648, -0.14974068, -0.12109125, -0.15489972,\n",
       "       -0.14721465, -0.14857129, -0.13564445, -0.14327476, -0.1538766 ,\n",
       "       -0.14391406, -0.11785602, -0.15193535, -0.14893888, -0.153989  ,\n",
       "       -0.13675084, -0.12685521, -0.15660983, -0.12968976, -0.13537061,\n",
       "       -0.14370861, -0.13641267, -0.14578708, -0.14488499, -0.15039553,\n",
       "       -0.15914012, -0.13689439, -0.14021354, -0.12693679, -0.11944605,\n",
       "       -0.14945466, -0.14748803, -0.1526059 , -0.13793169, -0.12881411,\n",
       "       -0.14675541, -0.1339056 , -0.14573407, -0.15393841, -0.12678596,\n",
       "       -0.12504091, -0.12709727, -0.13688119, -0.1501132 , -0.14284866,\n",
       "       -0.13026007, -0.15071437, -0.13718805, -0.14507724, -0.14305172])"
      ]
     },
     "execution_count": 89,
     "metadata": {},
     "output_type": "execute_result"
    }
   ],
   "source": [
    "eigenvecs[:,0]"
   ]
  },
  {
   "cell_type": "code",
   "execution_count": 84,
   "id": "7dfd1b13",
   "metadata": {},
   "outputs": [
    {
     "data": {
      "text/plain": [
       "array([23.38863799,  3.39285616,  2.60081508,  1.26857664,  1.0034919 ,\n",
       "        0.85444196,  0.78775285,  0.75493692,  0.72310378,  0.68404618,\n",
       "        0.66132364,  0.63769533,  0.62787555,  0.58511864,  0.57465301,\n",
       "        0.54460039,  0.53165085,  0.525099  ,  0.50258313,  0.48304886,\n",
       "        0.15434948,  0.16029709,  0.45056866,  0.44298671,  0.43179323,\n",
       "        0.17447256,  0.41888178,  0.18298131,  0.19240505,  0.19990927,\n",
       "        0.20424833,  0.21001779,  0.40759045,  0.39735667,  0.39441464,\n",
       "        0.37361126,  0.2312667 ,  0.23340936,  0.35959538,  0.34850857,\n",
       "        0.33158609,  0.32455932,  0.31552526,  0.25106147,  0.25560431,\n",
       "        0.29664147,  0.2935122 ,  0.27097874,  0.27734725,  0.28221169])"
      ]
     },
     "execution_count": 84,
     "metadata": {},
     "output_type": "execute_result"
    }
   ],
   "source": [
    "eigenvals"
   ]
  },
  {
   "cell_type": "markdown",
   "id": "e47cafd8",
   "metadata": {},
   "source": [
    "### Scaling comparison"
   ]
  },
  {
   "cell_type": "code",
   "execution_count": 143,
   "id": "5be1b58a",
   "metadata": {},
   "outputs": [
    {
     "data": {
      "text/plain": [
       "<matplotlib.legend.Legend at 0x7f8810051190>"
      ]
     },
     "execution_count": 143,
     "metadata": {},
     "output_type": "execute_result"
    },
    {
     "data": {
      "image/png": "[encoded data removed]",
      "text/plain": [
       "<Figure size 640x480 with 1 Axes>"
      ]
     },
     "metadata": {},
     "output_type": "display_data"
    }
   ],
   "source": [
    "stdapr = np.sqrt(p*(1-p))\n",
    "std = np.nanstd(C, axis=0)\n",
    "\n",
    "plt.plot(range(400), stdapr, label='p(1-p)')\n",
    "plt.plot(range(400), std, label='std')\n",
    "plt.legend()"
   ]
  },
  {
   "cell_type": "code",
   "execution_count": 29,
   "id": "e02dd69f",
   "metadata": {},
   "outputs": [],
   "source": [
    "Ch, _U, s, Vh = svd2(C, 49)"
   ]
  },
  {
   "cell_type": "code",
   "execution_count": 31,
   "id": "e088d785",
   "metadata": {
    "collapsed": true
   },
   "outputs": [
    {
     "data": {
      "text/plain": [
       "array([-6.86888364e-03,  9.63162112e-02, -6.99143107e-02,  1.30831231e-01,\n",
       "       -2.02432569e-01,  8.98822537e-02, -1.60142656e-01,  1.08841431e-01,\n",
       "        5.31635176e-02, -2.29663656e-01, -1.72521433e-01,  2.14502877e-01,\n",
       "       -1.41232064e-01, -1.44826311e-01, -2.03292904e-01, -1.59006217e-02,\n",
       "        1.94040345e-01, -1.01480462e-01,  2.19760172e-01,  9.88844459e-04,\n",
       "        1.27934886e-02,  7.41597297e-02, -1.03029014e-01,  2.64666510e-02,\n",
       "       -1.18564075e-01, -1.94812373e-01,  7.56262301e-02,  3.10430943e-02,\n",
       "        9.64791499e-02,  1.79067443e-01, -1.88662619e-01, -2.00605125e-01,\n",
       "       -2.33082765e-01,  1.28508483e-01,  1.64219020e-01, -3.19463965e-02,\n",
       "        1.54077368e-01,  9.82503484e-02, -1.15710505e-01,  1.98482931e-01,\n",
       "        2.48919105e-01,  1.99867150e-01, -1.92630440e-02, -1.43061570e-01,\n",
       "       -1.83531806e-01,  1.21886827e-01,  1.07831635e-05,  1.23926054e-01,\n",
       "       -8.36989449e-02,  2.21333706e-02])"
      ]
     },
     "execution_count": 31,
     "metadata": {},
     "output_type": "execute_result"
    }
   ],
   "source": [
    "U = _U[:,np.argsort(s)[::-1]]\n",
    "U[:,0]"
   ]
  },
  {
   "cell_type": "code",
   "execution_count": 21,
   "id": "945d099d",
   "metadata": {},
   "outputs": [],
   "source": [
    "## normalize U\n",
    "norms = np.linalg.norm(_U, axis=0)\n",
    "_U = _U/norms\n",
    "U = _U[:,np.argsort(s)[::-1]]\n"
   ]
  },
  {
   "cell_type": "code",
   "execution_count": 22,
   "id": "0028869a",
   "metadata": {},
   "outputs": [
    {
     "data": {
      "text/plain": [
       "array([2.61495062, 3.65282143])"
      ]
     },
     "execution_count": 22,
     "metadata": {},
     "output_type": "execute_result"
    }
   ],
   "source": [
    "s"
   ]
  },
  {
   "cell_type": "code",
   "execution_count": 23,
   "id": "3dd213a1",
   "metadata": {},
   "outputs": [
    {
     "data": {
      "text/plain": [
       "(50, 2)"
      ]
     },
     "execution_count": 23,
     "metadata": {},
     "output_type": "execute_result"
    }
   ],
   "source": [
    "U.shape"
   ]
  },
  {
   "cell_type": "code",
   "execution_count": 25,
   "id": "5a1c77af",
   "metadata": {},
   "outputs": [
    {
     "data": {
      "text/plain": [
       "1.0"
      ]
     },
     "execution_count": 25,
     "metadata": {},
     "output_type": "execute_result"
    }
   ],
   "source": [
    "np.linalg.norm(_U[:,0])"
   ]
  },
  {
   "cell_type": "code",
   "execution_count": 65,
   "id": "0bfea906",
   "metadata": {},
   "outputs": [
    {
     "data": {
      "text/plain": [
       "array([9355.45519706, 1357.14246417, 1040.3260335 ,  507.43065642,\n",
       "        401.39675911,  341.77678588,  315.10114169,  301.97476921,\n",
       "        289.24151299,  273.61847261,  264.52945798,  255.07813344,\n",
       "        251.15021961,  234.04745507,  229.86120491,  217.84015421,\n",
       "        212.66034071,  210.03960174,  201.03325338,  193.21954289,\n",
       "        180.22746316,  177.19468581,  172.71729324,  167.55271175,\n",
       "        163.0361796 ,  158.94266789,  157.76585768,  149.44450513,\n",
       "        143.83815215,  139.4034291 ,  132.63443693,  129.82372806,\n",
       "        126.21010467,  118.65658883,  117.40487965,  112.884675  ,\n",
       "        110.93889951,  108.39149454,  102.24172494,  100.42458895,\n",
       "         93.36374404,   92.50667981,   84.00711541,   81.69933086,\n",
       "         79.96370791,   76.96202171,   73.19252471,   69.78902526,\n",
       "         64.11883692,   61.7397902 ])"
      ]
     },
     "execution_count": 65,
     "metadata": {},
     "output_type": "execute_result"
    }
   ],
   "source": [
    "import scipy\n",
    "U1, S1, V1 = scipy.linalg.svd(Z.T)\n",
    "S1**2"
   ]
  },
  {
   "cell_type": "code",
   "execution_count": 73,
   "id": "9e08f888",
   "metadata": {},
   "outputs": [
    {
     "data": {
      "text/plain": [
       "(400,)"
      ]
     },
     "execution_count": 73,
     "metadata": {},
     "output_type": "execute_result"
    }
   ],
   "source": [
    "U1, S1, V1 = scipy.linalg.svd(Z.T, full_matrices = False)\n",
    "U1[:,0].shape"
   ]
  },
  {
   "cell_type": "code",
   "execution_count": 58,
   "id": "1c2d8f18",
   "metadata": {},
   "outputs": [
    {
     "data": {
      "text/plain": [
       "array([[1.00250627, 0.57308398, 0.54096631, ..., 0.40520462, 0.4579143 ,\n",
       "        0.40684024],\n",
       "       [0.57308398, 1.00250627, 0.5373926 , ..., 0.42330509, 0.44028403,\n",
       "        0.43772248],\n",
       "       [0.54096631, 0.5373926 , 1.00250627, ..., 0.40621327, 0.4497697 ,\n",
       "        0.41745739],\n",
       "       ...,\n",
       "       [0.40520462, 0.42330509, 0.40621327, ..., 1.00250627, 0.4454143 ,\n",
       "        0.57851146],\n",
       "       [0.4579143 , 0.44028403, 0.4497697 , ..., 0.4454143 , 1.00250627,\n",
       "        0.49941133],\n",
       "       [0.40684024, 0.43772248, 0.41745739, ..., 0.57851146, 0.49941133,\n",
       "        1.00250627]])"
      ]
     },
     "execution_count": 58,
     "metadata": {},
     "output_type": "execute_result"
    }
   ],
   "source": []
  },
  {
   "cell_type": "code",
   "execution_count": 72,
   "id": "6269c51e",
   "metadata": {},
   "outputs": [
    {
     "data": {
      "text/plain": [
       "0.9999999999999998"
      ]
     },
     "execution_count": 72,
     "metadata": {},
     "output_type": "execute_result"
    }
   ],
   "source": [
    "np.linalg.norm(U1[:,1])"
   ]
  },
  {
   "cell_type": "code",
   "execution_count": 29,
   "id": "6a701dd8",
   "metadata": {},
   "outputs": [],
   "source": [
    "x = np.linspace(-10, 10, 101)"
   ]
  },
  {
   "cell_type": "code",
   "execution_count": 110,
   "id": "bc933d01",
   "metadata": {},
   "outputs": [],
   "source": [
    "tw = TracyWidom(beta=1)\n",
    "pdf = tw.pdf(x)\n",
    "cdf = tw.cdf(x)"
   ]
  },
  {
   "cell_type": "code",
   "execution_count": 111,
   "id": "ebe00d8c",
   "metadata": {},
   "outputs": [
    {
     "data": {
      "text/plain": [
       "0.01877014839467761"
      ]
     },
     "execution_count": 111,
     "metadata": {},
     "output_type": "execute_result"
    }
   ],
   "source": [
    "1 - tw.cdf(1.638)"
   ]
  },
  {
   "cell_type": "code",
   "execution_count": 129,
   "id": "afc8f257",
   "metadata": {},
   "outputs": [
    {
     "data": {
      "text/plain": [
       "[<matplotlib.lines.Line2D at 0x7f8811a59460>]"
      ]
     },
     "execution_count": 129,
     "metadata": {},
     "output_type": "execute_result"
    },
    {
     "data": {
      "image/png": "[encoded data removed]",
      "text/plain": [
       "<Figure size 640x480 with 1 Axes>"
      ]
     },
     "metadata": {},
     "output_type": "display_data"
    }
   ],
   "source": [
    "plt.plot(x, pdf)\n",
    "plt.plot(x, cdf)"
   ]
  },
  {
   "cell_type": "code",
   "execution_count": 130,
   "id": "21b5405c",
   "metadata": {},
   "outputs": [],
   "source": [
    "tw.cdfinv?"
   ]
  },
  {
   "cell_type": "code",
   "execution_count": 132,
   "id": "dedfb877",
   "metadata": {},
   "outputs": [
    {
     "data": {
      "text/plain": [
       "0.15140699999999999"
      ]
     },
     "execution_count": 132,
     "metadata": {},
     "output_type": "execute_result"
    }
   ],
   "source": [
    "tw.cdf(-2.5)"
   ]
  },
  {
   "cell_type": "code",
   "execution_count": null,
   "id": "d1af4275",
   "metadata": {},
   "outputs": [],
   "source": []
  }
 ],
 "metadata": {
  "kernelspec": {
   "display_name": "Python 3 (ipykernel)",
   "language": "python",
   "name": "python3"
  },
  "language_info": {
   "codemirror_mode": {
    "name": "ipython",
    "version": 3
   },
   "file_extension": ".py",
   "mimetype": "text/x-python",
   "name": "python",
   "nbconvert_exporter": "python",
   "pygments_lexer": "ipython3",
   "version": "3.9.12"
  }
 },
 "nbformat": 4,
 "nbformat_minor": 5
}
